{
  "cells": [
    {
      "cell_type": "markdown",
      "metadata": {
        "id": "view-in-github",
        "colab_type": "text"
      },
      "source": [
        "<a href=\"https://colab.research.google.com/github/abhinandansgit/python-basic-programs/blob/datatype-and-functions/practical_lab.ipynb\" target=\"_parent\"><img src=\"https://colab.research.google.com/assets/colab-badge.svg\" alt=\"Open In Colab\"/></a>"
      ]
    },
    {
      "cell_type": "code",
      "execution_count": null,
      "metadata": {
        "colab": {
          "base_uri": "https://localhost:8080/"
        },
        "id": "ylkDtifC60HF",
        "outputId": "023a8d50-79f1-4ef0-9ba0-a71b197a7447"
      },
      "outputs": [
        {
          "name": "stdout",
          "output_type": "stream",
          "text": [
            "enter 1st number 1\n",
            "enter 2nd number2\n",
            "choose an operation from 1,2,3,4 2\n",
            "invalid input\n"
          ]
        }
      ],
      "source": [
        "a=int(input('enter 1st number '))\n",
        "b=int(input('enter 2nd number'))\n",
        "c=input('choose an operation from 1,2,3,4 ')\n",
        "if c == '1' :\n",
        "  print(a+b)\n",
        "elif c== '2' :\n",
        "  print(a-b)\n",
        "elif c== '3' :\n",
        "  print(a*b)\n",
        "elif c=='4' :\n",
        "  print(a/b)\n",
        "else:\n",
        "  print('invalid input')"
      ]
    },
    {
      "cell_type": "code",
      "execution_count": null,
      "metadata": {
        "colab": {
          "background_save": true
        },
        "id": "8-78jB3_2kV9",
        "outputId": "339e211b-b076-4bc1-80dc-93f12465869b"
      },
      "outputs": [
        {
          "name": "stdout",
          "output_type": "stream",
          "text": [
            "16\n"
          ]
        }
      ],
      "source": [
        "a = int(input('enter 1st number '))\n",
        "b = int(input('enter 2nd number'))\n",
        "c = input('choose an operation from 1,2,3,4 ')\n",
        "if c == '1':\n",
        "  print(a + b)\n",
        "elif c == '2':\n",
        "  print(a - b)\n",
        "elif c == '3':\n",
        "  print(a * b)\n",
        "elif c == '4':\n",
        "  print(a / b)\n",
        "else:\n",
        "  print('Invalid input')"
      ]
    },
    {
      "cell_type": "code",
      "execution_count": null,
      "metadata": {
        "id": "j7GDyM5s4WWE",
        "colab": {
          "base_uri": "https://localhost:8080/"
        },
        "outputId": "4121b174-8c3c-4fff-9bd2-4f7a4cfe93b7"
      },
      "outputs": [
        {
          "output_type": "stream",
          "name": "stdout",
          "text": [
            "[1, 2, 3, 4, 5]\n",
            "5 4 3 2 1\n",
            "1 2 3 4 5\n"
          ]
        }
      ],
      "source": [
        "#reverse index in list\n",
        "l1=[1,2,3,4,5]\n",
        "print(l1)\n",
        "print(l1[-1],l1[-2],l1[-3],l1[-4],l1[-5])\n",
        "print(l1[-5],l1[-4],l1[-3],l1[-2],l1[-1])"
      ]
    },
    {
      "cell_type": "code",
      "source": [
        "#bytes coversion\n",
        "b=bytes(l1)\n",
        "for i in b:\n",
        "  print(i)"
      ],
      "metadata": {
        "colab": {
          "base_uri": "https://localhost:8080/"
        },
        "id": "zHOxZxpszKlu",
        "outputId": "90bf8576-52d5-40c6-87cb-6dbf1bd8f822"
      },
      "execution_count": null,
      "outputs": [
        {
          "output_type": "stream",
          "name": "stdout",
          "text": [
            "1\n",
            "2\n",
            "3\n",
            "4\n",
            "5\n"
          ]
        }
      ]
    },
    {
      "cell_type": "markdown",
      "source": [
        "bytes data types represent a group of byte num. just like an array . a byte number is any integer from 0 to 255\n",
        "we cant modify or edit any element in the byte type array"
      ],
      "metadata": {
        "id": "55x33tS-zu9T"
      }
    },
    {
      "cell_type": "code",
      "source": [
        "#write a program to declare 2 different bytes and display the values..................\n",
        "l2=[1,2,3,4,5]\n",
        "l3=['a','b','c','d','e']\n",
        "b=bytes(l2)\n",
        "for i in b:\n",
        "  print(i)\n",
        "b=bytes(l3)\n",
        "for i in b:\n",
        "  print(i)"
      ],
      "metadata": {
        "id": "5CNpziF7zsJS"
      },
      "execution_count": null,
      "outputs": []
    },
    {
      "cell_type": "markdown",
      "source": [
        "the byte array data type is similar to byte data types\n",
        "the byte type array can not be modified\n",
        "but byte type array can be modified"
      ],
      "metadata": {
        "id": "tpdzJuaK2Xzb"
      }
    },
    {
      "cell_type": "code",
      "source": [
        "#witw a program to diplay the list elements and convert to byte array"
      ],
      "metadata": {
        "id": "IR2WGtpc2u3g"
      },
      "execution_count": null,
      "outputs": []
    },
    {
      "cell_type": "code",
      "source": [
        "#write a program to display thr list elements after converting the byte array and modify the verity\n",
        "l4=[1,2,3,7]\n",
        "print(l4)\n",
        "b=bytearray(l4)\n",
        "b[0]=10\n",
        "b[1]=20\n",
        "b[2]=30\n",
        "b[3]=70\n",
        "for i in b:\n",
        "  print(i)"
      ],
      "metadata": {
        "colab": {
          "base_uri": "https://localhost:8080/"
        },
        "id": "CuAUhV2224tp",
        "outputId": "e9b1b91a-4fc7-4823-8593-b041698318a0"
      },
      "execution_count": null,
      "outputs": [
        {
          "output_type": "stream",
          "name": "stdout",
          "text": [
            "[1, 2, 3, 7]\n",
            "10\n",
            "20\n",
            "30\n",
            "70\n"
          ]
        }
      ]
    },
    {
      "cell_type": "markdown",
      "source": [
        "list= it stores multiple types of elements.   list is an inbuilt data structure in python which is used to store disimilar data types.    list is acting as a containor where we can store seeparate values using comma and square bracket.   "
      ],
      "metadata": {
        "id": "h7cCzOJb4m7j"
      }
    },
    {
      "cell_type": "code",
      "source": [
        "#write a program to display the student details\n",
        "sd=['Abhinandan Parhi',2201297002,7.8,]\n",
        "print(sd)\n",
        "for i in sd:\n",
        "  print(i)"
      ],
      "metadata": {
        "colab": {
          "base_uri": "https://localhost:8080/"
        },
        "id": "447wfkzc47P2",
        "outputId": "e3d23fb0-21e7-450f-cb49-1aa2dd2100be"
      },
      "execution_count": null,
      "outputs": [
        {
          "output_type": "stream",
          "name": "stdout",
          "text": [
            "['Abhinandan Parhi', 2201297002, 7.8]\n",
            "Abhinandan Parhi\n",
            "2201297002\n",
            "7.8\n"
          ]
        }
      ]
    },
    {
      "cell_type": "code",
      "source": [
        "#create an empty list\n",
        "EL=[]\n",
        "EL"
      ],
      "metadata": {
        "colab": {
          "base_uri": "https://localhost:8080/"
        },
        "id": "va2QL5d06m49",
        "outputId": "8e42d9c2-aaca-47e6-b38d-5530f151c00b"
      },
      "execution_count": null,
      "outputs": [
        {
          "output_type": "execute_result",
          "data": {
            "text/plain": [
              "[]"
            ]
          },
          "metadata": {},
          "execution_count": 24
        }
      ]
    },
    {
      "cell_type": "code",
      "source": [
        "#create a list by eval function\n",
        "il=eval(input('enter the list values'))\n",
        "il"
      ],
      "metadata": {
        "colab": {
          "base_uri": "https://localhost:8080/",
          "height": 54
        },
        "id": "IXmomKer6y-t",
        "outputId": "5d166b9d-d9a7-46cd-cea2-76f1024e8b12"
      },
      "execution_count": null,
      "outputs": [
        {
          "name": "stdout",
          "output_type": "stream",
          "text": [
            "enter the list values'a'\n"
          ]
        },
        {
          "output_type": "execute_result",
          "data": {
            "text/plain": [
              "'a'"
            ],
            "application/vnd.google.colaboratory.intrinsic+json": {
              "type": "string"
            }
          },
          "metadata": {},
          "execution_count": 29
        }
      ]
    },
    {
      "cell_type": "code",
      "source": [
        "#take input and print backward\n",
        "l5=eval(input('enter the list values'))\n",
        "print(l1[-1],l1[-2],l1[-3],l1[-4],l1[-5])"
      ],
      "metadata": {
        "colab": {
          "base_uri": "https://localhost:8080/"
        },
        "id": "sYwEOiQh8rF4",
        "outputId": "2384ca02-a868-4833-af35-832b99e8c285"
      },
      "execution_count": null,
      "outputs": [
        {
          "output_type": "stream",
          "name": "stdout",
          "text": [
            "enter the list values1,2,3,4,5\n",
            "5 4 3 2 1\n"
          ]
        }
      ]
    },
    {
      "cell_type": "code",
      "source": [
        "#creating list using range functon\n",
        "l=list(range(10,21))\n",
        "l"
      ],
      "metadata": {
        "colab": {
          "base_uri": "https://localhost:8080/"
        },
        "id": "zcbHik_S9OWJ",
        "outputId": "6ebb5309-571e-4b92-dc87-413652d59c77"
      },
      "execution_count": null,
      "outputs": [
        {
          "output_type": "execute_result",
          "data": {
            "text/plain": [
              "[10, 11, 12, 13, 14, 15, 16, 17, 18, 19, 20]"
            ]
          },
          "metadata": {},
          "execution_count": 32
        }
      ]
    },
    {
      "cell_type": "code",
      "source": [
        "#creating the list using split\n",
        "msg ='abhinandan parhi'\n",
        "s=msg.split()\n",
        "s"
      ],
      "metadata": {
        "colab": {
          "base_uri": "https://localhost:8080/"
        },
        "id": "t6wLKB2D_t3M",
        "outputId": "ce7242b0-6fe8-4672-cf40-c6d18e899e9c"
      },
      "execution_count": null,
      "outputs": [
        {
          "output_type": "execute_result",
          "data": {
            "text/plain": [
              "['abhinandan', 'parhi']"
            ]
          },
          "metadata": {},
          "execution_count": 39
        }
      ]
    },
    {
      "cell_type": "markdown",
      "source": [
        "list is maintaining the order\n",
        "list holds different types of data items\n",
        "duplicate elements are allowed\n",
        "list is dynamic in nature\n",
        "list is mutable\n",
        "list elements can be accessed using positive,negetive,slice index\n",
        "list cotains coplex level objects like class ,modules, operators"
      ],
      "metadata": {
        "id": "7oHnJ3qyBFBA"
      }
    },
    {
      "cell_type": "code",
      "source": [
        "num1= [ 20, \" mathematics\", 'c', True]\n",
        "num1[1:3]"
      ],
      "metadata": {
        "colab": {
          "base_uri": "https://localhost:8080/"
        },
        "id": "8Ygnx4YfC1kp",
        "outputId": "9b6a31d8-b312-4d71-dcf2-4c69e4d5aede"
      },
      "execution_count": null,
      "outputs": [
        {
          "output_type": "execute_result",
          "data": {
            "text/plain": [
              "[' mathematics', 'c']"
            ]
          },
          "metadata": {},
          "execution_count": 47
        }
      ]
    },
    {
      "cell_type": "code",
      "source": [
        "#append method\n",
        "l6=[1,2,3,4,5]\n",
        "b=[6,7,8]\n",
        "l6.append(b)\n",
        "print(l6)"
      ],
      "metadata": {
        "colab": {
          "base_uri": "https://localhost:8080/"
        },
        "id": "s63oSY8m-ZyA",
        "outputId": "6c38b005-1eba-44d6-f446-1fdd2accfd72"
      },
      "execution_count": null,
      "outputs": [
        {
          "output_type": "stream",
          "name": "stdout",
          "text": [
            "[1, 2, 3, 4, 5, [6, 7, 8]]\n"
          ]
        }
      ]
    },
    {
      "cell_type": "code",
      "source": [
        "l6=[]\n",
        "for i in range(20):\n",
        "  l6.append(0)\n",
        "print(l6)"
      ],
      "metadata": {
        "colab": {
          "base_uri": "https://localhost:8080/"
        },
        "id": "JyBE2QhPFUTR",
        "outputId": "f6070b93-d725-4b96-f98b-28d656cf0de8"
      },
      "execution_count": null,
      "outputs": [
        {
          "output_type": "stream",
          "name": "stdout",
          "text": [
            "[0, 0, 0, 0, 0, 0, 0, 0, 0, 0, 0, 0, 0, 0, 0, 0, 0, 0, 0, 0]\n"
          ]
        }
      ]
    }
  ],
  "metadata": {
    "colab": {
      "provenance": [],
      "authorship_tag": "ABX9TyOb/7HuCiO9ivb1UITTzFGC",
      "include_colab_link": true
    },
    "kernelspec": {
      "display_name": "Python 3",
      "name": "python3"
    },
    "language_info": {
      "name": "python"
    }
  },
  "nbformat": 4,
  "nbformat_minor": 0
}